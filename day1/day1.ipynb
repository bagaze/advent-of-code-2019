{
 "cells": [
  {
   "cell_type": "markdown",
   "id": "148513a5",
   "metadata": {},
   "source": [
    "# Day 1: The Tyranny of the Rocket Equation"
   ]
  },
  {
   "cell_type": "markdown",
   "id": "d59be5cf",
   "metadata": {},
   "source": [
    "## Part 1"
   ]
  },
  {
   "cell_type": "markdown",
   "id": "40144dc6",
   "metadata": {},
   "source": [
    "Santa has become stranded at the edge of the Solar System while delivering presents to other planets! To accurately calculate his position in space, safely align his warp drive, and return to Earth in time to save Christmas, he needs you to bring him measurements from **fifty stars**.\n",
    "\n",
    "Collect stars by solving puzzles. Two puzzles will be made available on each day in the Advent calendar; the second puzzle is unlocked when you complete the first. Each puzzle grants **one star**. Good luck!\n",
    "\n",
    "The Elves quickly load you into a spacecraft and prepare to launch.\n",
    "\n",
    "At the first Go / No Go poll, every Elf is Go until the Fuel Counter-Upper. They haven't determined the amount of fuel required yet.\n",
    "\n",
    "Fuel required to launch a given **module** is based on its **mass**. Specifically, to find the fuel required for a module, take its mass, divide by three, round down, and subtract 2.\n",
    "\n",
    "For example:\n",
    "\n",
    "- For a mass of `12`, divide by `3` and round down to get `4`, then subtract `2` to get `2`.\n",
    "- For a mass of `14`, dividing by `3` and rounding down still yields `4`, so the fuel required is also `2`.\n",
    "- For a mass of `1969`, the fuel required is `654`.\n",
    "- For a mass of `100756`, the fuel required is `33583`.\n",
    "\n",
    "The Fuel Counter-Upper needs to know the total fuel requirement. To find it, individually calculate the fuel needed for the mass of each module (your puzzle input), then add together all the fuel values.\n",
    "\n",
    "**What is the sum of the fuel requirements** for all of the modules on your spacecraft?"
   ]
  },
  {
   "cell_type": "markdown",
   "id": "23dc45dd",
   "metadata": {},
   "source": [
    "### Extract data"
   ]
  },
  {
   "cell_type": "code",
   "execution_count": 1,
   "id": "b32719af",
   "metadata": {},
   "outputs": [
    {
     "data": {
      "text/plain": [
       "[108546, 76196, 144412, 100530, 143908, 79763, 109927, 53656, 82633, 103781]"
      ]
     },
     "execution_count": 1,
     "metadata": {},
     "output_type": "execute_result"
    }
   ],
   "source": [
    "data = []\n",
    "\n",
    "with open('./data/input', 'r') as f:\n",
    "    data = [int(l.rstrip()) for l in f]\n",
    "    \n",
    "data[:10]"
   ]
  },
  {
   "cell_type": "markdown",
   "id": "d459debf",
   "metadata": {},
   "source": [
    "### Calculating the mass"
   ]
  },
  {
   "cell_type": "code",
   "execution_count": 2,
   "id": "c1553694",
   "metadata": {},
   "outputs": [
    {
     "name": "stdout",
     "output_type": "stream",
     "text": [
      "2 2 654 33583\n"
     ]
    }
   ],
   "source": [
    "from math import trunc\n",
    "\n",
    "def calculate_fuel_p1(mass: int) -> int:\n",
    "    return trunc(mass / 3) - 2\n",
    "\n",
    "print(calculate_fuel_p1(12), calculate_fuel_p1(14), calculate_fuel_p1(1969), calculate_fuel_p1(100756))"
   ]
  },
  {
   "cell_type": "markdown",
   "id": "411348e5",
   "metadata": {},
   "source": [
    "### Process data"
   ]
  },
  {
   "cell_type": "code",
   "execution_count": 3,
   "id": "b93dabac",
   "metadata": {},
   "outputs": [
    {
     "data": {
      "text/plain": [
       "3395944"
      ]
     },
     "execution_count": 3,
     "metadata": {},
     "output_type": "execute_result"
    }
   ],
   "source": [
    "res = sum(map(calculate_fuel_p1, data))\n",
    "res"
   ]
  },
  {
   "cell_type": "markdown",
   "id": "167626d7",
   "metadata": {},
   "source": [
    "Your puzzle answer was `3395944`."
   ]
  },
  {
   "cell_type": "markdown",
   "id": "421ea84c",
   "metadata": {},
   "source": [
    "## Part 2"
   ]
  },
  {
   "cell_type": "markdown",
   "id": "fa099206",
   "metadata": {},
   "source": [
    "During the second Go / No Go poll, the Elf in charge of the Rocket Equation Double-Checker stops the launch sequence. Apparently, you forgot to include additional fuel for the fuel you just added.\n",
    "\n",
    "Fuel itself requires fuel just like a module - take its mass, divide by three, round down, and subtract 2. However, that fuel **also** requires fuel, and **that** fuel requires fuel, and so on. Any mass that would require **negative fuel** should instead be treated as if it requires **zero fuel**; the remaining mass, if any, is instead handled by **wishing really hard**, which has no mass and is outside the scope of this calculation.\n",
    "\n",
    "So, for each module mass, calculate its fuel and add it to the total. Then, treat the fuel amount you just calculated as the input mass and repeat the process, continuing until a fuel requirement is zero or negative. For example:\n",
    "\n",
    "- A module of mass `14` requires `2` fuel. This fuel requires no further fuel (`2` divided by `3` and rounded down is `0`, which would call for a negative fuel), so the total fuel required is still just `2`.\n",
    "- At first, a module of mass `1969` requires `654` fuel. Then, this fuel requires `216` more fuel `(654 / 3 - 2)`. `216` then requires `70` more fuel, which requires `21` fuel, which requires `5` fuel, which requires no further fuel. So, the total fuel required for a module of mass `1969` is `654 + 216 + 70 + 21 + 5 = 966`.\n",
    "- The fuel required by a module of mass `100756` and its fuel is: `33583 + 11192 + 3728 + 1240 + 411 + 135 + 43 + 12 + 2 = 50346`.\n",
    "\n",
    "**What is the sum of the fuel requirements** for all of the modules on your spacecraft when also taking into account the mass of the added fuel? (Calculate the fuel requirements for each module separately, then add them all up at the end.)"
   ]
  },
  {
   "cell_type": "markdown",
   "id": "bb5fe9d5",
   "metadata": {},
   "source": [
    "### Calculating the mass"
   ]
  },
  {
   "cell_type": "code",
   "execution_count": 4,
   "id": "d492f741",
   "metadata": {},
   "outputs": [
    {
     "name": "stdout",
     "output_type": "stream",
     "text": [
      "2 2 966 50346\n"
     ]
    }
   ],
   "source": [
    "from math import trunc\n",
    "\n",
    "def calculate_fuel_p2(mass: int) -> int:\n",
    "    fuel = trunc(mass / 3) - 2\n",
    "    return 0 if fuel <= 0 else fuel + calculate_fuel_p2(fuel)\n",
    "\n",
    "print(calculate_fuel_p2(12), calculate_fuel_p2(14), calculate_fuel_p2(1969), calculate_fuel_p2(100756))"
   ]
  },
  {
   "cell_type": "markdown",
   "id": "47f02495",
   "metadata": {},
   "source": [
    "### Process data"
   ]
  },
  {
   "cell_type": "code",
   "execution_count": 5,
   "id": "853a3a5c",
   "metadata": {},
   "outputs": [
    {
     "data": {
      "text/plain": [
       "5091036"
      ]
     },
     "execution_count": 5,
     "metadata": {},
     "output_type": "execute_result"
    }
   ],
   "source": [
    "res = sum(map(calculate_fuel_p2, data))\n",
    "res"
   ]
  },
  {
   "cell_type": "markdown",
   "id": "09ba833e",
   "metadata": {},
   "source": [
    "Your puzzle answer was `5091036`."
   ]
  }
 ],
 "metadata": {
  "kernelspec": {
   "display_name": "Python 3 (ipykernel)",
   "language": "python",
   "name": "python3"
  },
  "language_info": {
   "codemirror_mode": {
    "name": "ipython",
    "version": 3
   },
   "file_extension": ".py",
   "mimetype": "text/x-python",
   "name": "python",
   "nbconvert_exporter": "python",
   "pygments_lexer": "ipython3",
   "version": "3.10.4"
  }
 },
 "nbformat": 4,
 "nbformat_minor": 5
}
