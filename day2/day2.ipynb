{
 "cells": [
  {
   "cell_type": "markdown",
   "id": "7381c145",
   "metadata": {},
   "source": [
    "# Day 2: 1202 Program Alarm"
   ]
  },
  {
   "cell_type": "markdown",
   "id": "6e986c26",
   "metadata": {},
   "source": [
    "## Part 1\n",
    "\n",
    "On the way to your [gravity assist](https://en.wikipedia.org/wiki/Gravity_assist) around the Moon, your ship computer beeps angrily about a \"[1202 program alarm](https://www.hq.nasa.gov/alsj/a11/a11.landing.html#1023832)\". On the radio, an Elf is already explaining how to handle the situation: \"Don't worry, that's perfectly norma--\" The ship computer [bursts into flames](https://en.wikipedia.org/wiki/Halt_and_Catch_Fire).\n",
    "\n",
    "You notify the Elves that the computer's [magic smoke](https://en.wikipedia.org/wiki/Magic_smoke) seems to have escaped. \"That computer ran **Intcode** programs like the gravity assist program it was working on; surely there are enough spare parts up there to build a new Intcode computer!\"\n",
    "\n",
    "An Intcode program is a list of [integers](https://en.wikipedia.org/wiki/Integer) separated by commas (like `1,0,0,3,99`). To run one, start by looking at the first integer (called position `0`). Here, you will find an **opcode** - either `1`, `2`, or `99`. The opcode indicates what to do; for example, `99` means that the program is finished and should immediately halt. Encountering an unknown opcode means something went wrong.\n",
    "\n",
    "Opcode `1` **adds** together numbers read from two positions and stores the result in a third position. The three integers **immediately after** the opcode tell you these three positions - the first two indicate the **positions** from which you should read the input values, and the third indicates the **position** at which the output should be stored.\n",
    "\n",
    "For example, if your Intcode computer encounters `1,10,20,30`, it should read the values at positions `10` and `20`, add those values, and then overwrite the value at position `30` with their sum.\n",
    "\n",
    "Opcode `2` works exactly like opcode `1`, except it **multiplies** the two inputs instead of adding them. Again, the three integers after the opcode indicate where the inputs and outputs are, not their values.\n",
    "\n",
    "Once you're done processing an opcode, **move to the next one** by stepping forward `4` positions.\n",
    "\n",
    "For example, suppose you have the following program:\n",
    "\n",
    "```\n",
    "1,9,10,3,2,3,11,0,99,30,40,50\n",
    "```\n",
    "\n",
    "For the purposes of illustration, here is the same program split into multiple lines:\n",
    "\n",
    "```\n",
    "1,9,10,3,\n",
    "2,3,11,0,\n",
    "99,\n",
    "30,40,50\n",
    "```\n",
    "\n",
    "The first four integers, `1`,`9`,`10`,`3`, are at positions `0`, `1`, `2`, and `3`. Together, they represent the first opcode (`1`, `addition`), the positions of the two inputs (9 and 10), and the position of the output (`3`). To handle this opcode, you first need to get the values at the input positions: position `9` contains `30`, and position `10` contains `40`. Add these numbers together to get 70. Then, store this value at the output position; here, the output position (`3`) is at position `3`, so it overwrites itself. Afterward, the program looks like this:\n",
    "\n",
    "```\n",
    "1,9,10,70,\n",
    "2,3,11,0,\n",
    "99,\n",
    "30,40,50\n",
    "```\n",
    "\n",
    "Step forward 4 positions to reach the next opcode, 2. This opcode works just like the previous, but it multiplies instead of adding. The inputs are at positions 3 and 11; these positions contain 70 and 50 respectively. Multiplying these produces 3500; this is stored at position 0:\n",
    "\n",
    "```\n",
    "3500,9,10,70,\n",
    "2,3,11,0,\n",
    "99,\n",
    "30,40,50\n",
    "```\n",
    "\n",
    "Stepping forward 4 more positions arrives at opcode 99, halting the program.\n",
    "\n",
    "Here are the initial and final states of a few more small programs:\n",
    "\n",
    "- `1,0,0,0,99` becomes `2,0,0,0,99` (`1 + 1 = 2`).\n",
    "- `2,3,0,3,99` becomes `2,3,0,6,99` (`3 * 2 = 6`).\n",
    "- `2,4,4,5,99,0` becomes `2,4,4,5,99,9801` (`99 * 99 = 9801`).\n",
    "- `1,1,1,4,99,5,6,0,99` becomes `30,1,1,4,2,5,6,0,99`.\n",
    "\n",
    "Once you have a working computer, the first step is to restore the gravity assist program (your puzzle input) to the \"1202 program alarm\" state it had just before the last computer caught fire. To do this, **before running the program**, replace position 1 with the value 12 and replace position 2 with the value 2. **What value is left at position `0`** after the program halts?"
   ]
  },
  {
   "cell_type": "markdown",
   "id": "0abdb3fb",
   "metadata": {},
   "source": [
    "### Extract data"
   ]
  },
  {
   "cell_type": "code",
   "execution_count": 1,
   "id": "a5a75d5d",
   "metadata": {},
   "outputs": [
    {
     "data": {
      "text/plain": [
       "[1, 0, 0, 3, 1, 1, 2, 3, 1, 3]"
      ]
     },
     "execution_count": 1,
     "metadata": {},
     "output_type": "execute_result"
    }
   ],
   "source": [
    "sample_data = [1, 9, 10, 3, 2, 3, 11, 0, 99, 30, 40, 50]\n",
    "\n",
    "data = []\n",
    "\n",
    "with open('./data/input', 'r') as f:\n",
    "    data = list(map(int, f.read().rstrip().split(',')))\n",
    "\n",
    "data[:10]"
   ]
  },
  {
   "cell_type": "markdown",
   "id": "55768dbd",
   "metadata": {},
   "source": [
    "### Running the operations"
   ]
  },
  {
   "cell_type": "code",
   "execution_count": 2,
   "id": "7debdde1",
   "metadata": {},
   "outputs": [],
   "source": [
    "import operator\n",
    "\n",
    "OP = {\n",
    "    1: operator.add,\n",
    "    2: operator.mul,\n",
    "    99: None\n",
    "}"
   ]
  },
  {
   "cell_type": "code",
   "execution_count": 3,
   "id": "829c8e0a",
   "metadata": {},
   "outputs": [
    {
     "data": {
      "text/plain": [
       "3500"
      ]
     },
     "execution_count": 3,
     "metadata": {},
     "output_type": "execute_result"
    }
   ],
   "source": [
    "def process_data(data: list[int], noun: int | None=None, verb: int | None=None) -> int:\n",
    "    c_data = data.copy()\n",
    "    \n",
    "    if noun is not None:\n",
    "        c_data[1] = noun\n",
    "        \n",
    "    if verb is not None:\n",
    "        c_data[2] = verb\n",
    "    \n",
    "    pt = 0\n",
    "    while True:\n",
    "        op_fn = OP[c_data[pt]]\n",
    "        if op_fn is None:\n",
    "            break\n",
    "            \n",
    "        c_data[c_data[pt + 3]] = op_fn(c_data[c_data[pt + 1]], c_data[c_data[pt + 2]])\n",
    "        \n",
    "        pt += 4\n",
    "        \n",
    "    return c_data[0]\n",
    "\n",
    "process_data(sample_data)"
   ]
  },
  {
   "cell_type": "code",
   "execution_count": 4,
   "id": "9ee24e91",
   "metadata": {},
   "outputs": [
    {
     "data": {
      "text/plain": [
       "2894520"
      ]
     },
     "execution_count": 4,
     "metadata": {},
     "output_type": "execute_result"
    }
   ],
   "source": [
    "process_data(data, 12, 2)"
   ]
  },
  {
   "cell_type": "markdown",
   "id": "d5f699fe",
   "metadata": {},
   "source": [
    "Your puzzle answer was `2894520`."
   ]
  },
  {
   "cell_type": "markdown",
   "id": "72705d1c",
   "metadata": {},
   "source": [
    "## Part 2\n",
    "\n",
    "\"Good, the new computer seems to be working correctly! **Keep it nearby** during this mission - you'll probably use it again. Real Intcode computers support many more features than your new one, but we'll let you know what they are as you need them.\"\n",
    "\n",
    "\"However, your current priority should be to complete your gravity assist around the Moon. For this mission to succeed, we should settle on some terminology for the parts you've already built.\"\n",
    "\n",
    "Intcode programs are given as a list of integers; these values are used as the initial state for the computer's memory. When you run an Intcode program, make sure to start by initializing **memory** to the program's values. A position in memory is called an **address** (for example, the first value in memory is at \"address `0`\").\n",
    "\n",
    "Opcodes (like `1`, `2`, or `99`) mark the beginning of an **instruction**. The values used immediately after an opcode, if any, are called the instruction's **parameters**. For example, in the instruction `1,2,3,4`, `1` is the opcode; `2`, `3`, and `4` are the parameters. The instruction `99` contains only an opcode and has no parameters.\n",
    "\n",
    "The address of the current instruction is called the **instruction pointer**; it starts at 0. After an instruction finishes, the instruction pointer increases by **the number of values in the instruction**; until you add more instructions to the computer, this is always `4` (`1` opcode + `3` parameters) for the add and multiply instructions. (The halt instruction would increase the instruction pointer by `1`, but it halts the program instead.)\n",
    "\n",
    "\"With terminology out of the way, we're ready to proceed. To complete the gravity assist, you need to **determine what pair of inputs produces the output `19690720`**.\"\n",
    "\n",
    "The inputs should still be provided to the program by replacing the values at addresses `1` and `2`, just like before. In this program, the value placed in address `1` is called the **noun**, and the value placed in address 2 is called the **verb**. Each of the two input values will be between `0` and `99`, inclusive.\n",
    "\n",
    "Once the program has halted, its output is available at address `0`, also just like before. Each time you try a pair of inputs, make sure you first **reset the computer's memory to the values in the program** (your puzzle input) - in other words, don't reuse memory from a previous attempt.\n",
    "\n",
    "Find the input noun and verb that cause the program to produce the output `19690720`. **What is `100 * noun + verb`**? (For example, if `noun=12` and `verb=2`, the answer would be `1202`.)"
   ]
  },
  {
   "cell_type": "markdown",
   "id": "2aeb332a",
   "metadata": {},
   "source": [
    "### Find the correct combination"
   ]
  },
  {
   "cell_type": "code",
   "execution_count": 5,
   "id": "7ed171a6",
   "metadata": {},
   "outputs": [
    {
     "name": "stdout",
     "output_type": "stream",
     "text": [
      "noun: 93, verb: 42\n",
      "result: 9342\n"
     ]
    }
   ],
   "source": [
    "from itertools import product\n",
    "\n",
    "def find_verb_noun(expected_result: int=19690720) -> tuple[int, int]:\n",
    "    v = b = None\n",
    "    noun_verb_comb = product(range(100), range(100))\n",
    "\n",
    "    for noun, verb in noun_verb_comb:\n",
    "        res = process_data(data, noun, verb)\n",
    "\n",
    "        if res == expected_result:\n",
    "            v, b = verb, noun\n",
    "            break\n",
    "            \n",
    "    return v, b\n",
    "\n",
    "verb, noun = find_verb_noun()\n",
    "print(f'noun: {noun}, verb: {verb}')\n",
    "print(f'result: {100 * noun + verb}')"
   ]
  },
  {
   "cell_type": "markdown",
   "id": "baa21d2e",
   "metadata": {},
   "source": [
    "Your puzzle answer was `9342`."
   ]
  }
 ],
 "metadata": {
  "kernelspec": {
   "display_name": "Python 3 (ipykernel)",
   "language": "python",
   "name": "python3"
  },
  "language_info": {
   "codemirror_mode": {
    "name": "ipython",
    "version": 3
   },
   "file_extension": ".py",
   "mimetype": "text/x-python",
   "name": "python",
   "nbconvert_exporter": "python",
   "pygments_lexer": "ipython3",
   "version": "3.10.4"
  }
 },
 "nbformat": 4,
 "nbformat_minor": 5
}
