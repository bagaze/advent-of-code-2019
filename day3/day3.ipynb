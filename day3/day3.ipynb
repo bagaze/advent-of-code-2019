{
 "cells": [
  {
   "cell_type": "markdown",
   "id": "7a0cd003",
   "metadata": {},
   "source": [
    "# Day 3: Crossed Wires"
   ]
  },
  {
   "cell_type": "markdown",
   "id": "2dceb94e",
   "metadata": {},
   "source": [
    "## Part 1\n",
    "\n",
    "The gravity assist was successful, and you're well on your way to the Venus refuelling station. During the rush back on Earth, the fuel management system wasn't completely installed, so that's next on the priority list.\n",
    "\n",
    "Opening the front panel reveals a jumble of wires. Specifically, **two wires** are connected to a central port and extend outward on a grid. You trace the path each wire takes as it leaves the central port, one wire per line of text (your puzzle input).\n",
    "\n",
    "The wires twist and turn, but the two wires occasionally cross paths. To fix the circuit, you need to **find the intersection point closest to the central port**. Because the wires are on a grid, use the [Manhattan distance](https://en.wikipedia.org/wiki/Taxicab_geometry) for this measurement. While the wires do technically cross right at the central port where they both start, this point does not count, nor does a wire count as crossing with itself.\n",
    "\n",
    "For example, if the first wire's path is `R8,U5,L5,D3`, then starting from the central port (`o`), it goes right `8`, up `5`, left `5`, and finally down `3`:\n",
    "\n",
    "```\n",
    "...........\n",
    "...........\n",
    "...........\n",
    "....+----+.\n",
    "....|....|.\n",
    "....|....|.\n",
    "....|....|.\n",
    ".........|.\n",
    ".o-------+.\n",
    "...........\n",
    "```\n",
    "\n",
    "Then, if the second wire's path is `U7,R6,D4,L4`, it goes up `7`, right `6`, down `4`, and left `4`:\n",
    "\n",
    "```\n",
    "...........\n",
    ".+-----+...\n",
    ".|.....|...\n",
    ".|..+--X-+.\n",
    ".|..|..|.|.\n",
    ".|.-X--+.|.\n",
    ".|..|....|.\n",
    ".|.......|.\n",
    ".o-------+.\n",
    "...........\n",
    "\n",
    "```\n",
    "\n",
    "These wires cross at two locations (marked X), but the lower-left one is closer to the central port: its distance is `3 + 3 = 6`.\n",
    "\n",
    "Here are a few more examples:\n",
    "\n",
    "- `R75,D30,R83,U83,L12,D49,R71,U7,L72`<br>\n",
    "  `U62,R66,U55,R34,D71,R55,D58,R83` = distance `159`\n",
    "- `R98,U47,R26,D63,R33,U87,L62,D20,R33,U53,R51`<br>\n",
    "  `U98,R91,D20,R16,D67,R40,U7,R15,U6,R7` = distance `135`\n",
    "\n",
    "**What is the Manhattan distance** from the central port to the closest intersection?"
   ]
  },
  {
   "cell_type": "markdown",
   "id": "7b3099d1",
   "metadata": {},
   "source": [
    "### Extract data"
   ]
  },
  {
   "cell_type": "code",
   "execution_count": 1,
   "id": "06bbc2d3",
   "metadata": {},
   "outputs": [
    {
     "name": "stdout",
     "output_type": "stream",
     "text": [
      "[Instruction(operation='R', value=1000), Instruction(operation='D', value=940), Instruction(operation='L', value=143), Instruction(operation='D', value=182), Instruction(operation='L', value=877)] [Instruction(operation='L', value=990), Instruction(operation='D', value=248), Instruction(operation='L', value=833), Instruction(operation='U', value=137), Instruction(operation='L', value=556)]\n"
     ]
    }
   ],
   "source": [
    "from collections import namedtuple\n",
    "\n",
    "Instruction = namedtuple('Instruction', 'operation value')\n",
    "\n",
    "data = []\n",
    "\n",
    "with open('./data/input', 'r') as f:\n",
    "    # Wire 1\n",
    "    wire1 = [Instruction(instruction[0], int(instruction[1:])) for instruction in f.readline().rstrip().split(',')]\n",
    "    data.append(wire1)\n",
    "    # Wire 2\n",
    "    wire2 = [Instruction(instruction[0], int(instruction[1:])) for instruction in f.readline().rstrip().split(',')]\n",
    "    data.append(wire2)\n",
    "    \n",
    "print(data[0][:5], data[1][:5])"
   ]
  },
  {
   "cell_type": "code",
   "execution_count": 2,
   "id": "af38027a",
   "metadata": {},
   "outputs": [
    {
     "data": {
      "text/plain": [
       "[[Instruction(operation='R', value=8),\n",
       "  Instruction(operation='U', value=5),\n",
       "  Instruction(operation='L', value=5),\n",
       "  Instruction(operation='D', value=3)],\n",
       " [Instruction(operation='U', value=7),\n",
       "  Instruction(operation='R', value=6),\n",
       "  Instruction(operation='D', value=4),\n",
       "  Instruction(operation='L', value=4)]]"
      ]
     },
     "execution_count": 2,
     "metadata": {},
     "output_type": "execute_result"
    }
   ],
   "source": [
    "sample_data = []\n",
    "\n",
    "wire1 = [Instruction(instruction[0], int(instruction[1:])) \n",
    "         for instruction in 'R8,U5,L5,D3'.split(',')]\n",
    "wire2 = [Instruction(instruction[0], int(instruction[1:])) \n",
    "         for instruction in 'U7,R6,D4,L4'.split(',')]\n",
    "sample_data.append(wire1)\n",
    "sample_data.append(wire2)\n",
    "\n",
    "sample_data"
   ]
  },
  {
   "cell_type": "code",
   "execution_count": 3,
   "id": "9e847d5e",
   "metadata": {},
   "outputs": [
    {
     "data": {
      "text/plain": [
       "[[Instruction(operation='R', value=75),\n",
       "  Instruction(operation='D', value=30),\n",
       "  Instruction(operation='R', value=83),\n",
       "  Instruction(operation='U', value=83),\n",
       "  Instruction(operation='L', value=12),\n",
       "  Instruction(operation='D', value=49),\n",
       "  Instruction(operation='R', value=71),\n",
       "  Instruction(operation='U', value=7),\n",
       "  Instruction(operation='L', value=72)],\n",
       " [Instruction(operation='U', value=62),\n",
       "  Instruction(operation='R', value=66),\n",
       "  Instruction(operation='U', value=55),\n",
       "  Instruction(operation='R', value=34),\n",
       "  Instruction(operation='D', value=71),\n",
       "  Instruction(operation='R', value=55),\n",
       "  Instruction(operation='D', value=58),\n",
       "  Instruction(operation='R', value=83)]]"
      ]
     },
     "execution_count": 3,
     "metadata": {},
     "output_type": "execute_result"
    }
   ],
   "source": [
    "sample_data2 = []\n",
    "\n",
    "wire1 = [Instruction(instruction[0], int(instruction[1:])) \n",
    "         for instruction in 'R75,D30,R83,U83,L12,D49,R71,U7,L72'.split(',')]\n",
    "wire2 = [Instruction(instruction[0], int(instruction[1:])) \n",
    "         for instruction in 'U62,R66,U55,R34,D71,R55,D58,R83'.split(',')]\n",
    "sample_data2.append(wire1)\n",
    "sample_data2.append(wire2)\n",
    "\n",
    "sample_data2"
   ]
  },
  {
   "cell_type": "markdown",
   "id": "d003fa43",
   "metadata": {},
   "source": [
    "### Calculating Manhattan distance"
   ]
  },
  {
   "cell_type": "code",
   "execution_count": 4,
   "id": "4928f1f4",
   "metadata": {},
   "outputs": [
    {
     "data": {
      "text/plain": [
       "20"
      ]
     },
     "execution_count": 4,
     "metadata": {},
     "output_type": "execute_result"
    }
   ],
   "source": [
    "Point = namedtuple('Point', 'x y')\n",
    "\n",
    "def calculate_manhattan_distance(p1: Point, p2: Point) -> int:\n",
    "    return abs(p1.x - p2.x) + abs(p1.y - p2.y)\n",
    "\n",
    "calculate_manhattan_distance(Point(-1000, -900), Point(-990, -890))"
   ]
  },
  {
   "cell_type": "markdown",
   "id": "96ed1220",
   "metadata": {},
   "source": [
    "### Find the intersections"
   ]
  },
  {
   "cell_type": "code",
   "execution_count": 5,
   "id": "33f20e55",
   "metadata": {},
   "outputs": [
    {
     "data": {
      "text/plain": [
       "[Point(x=-5, y=-9), Point(x=-5, y=-8)]"
      ]
     },
     "execution_count": 5,
     "metadata": {},
     "output_type": "execute_result"
    }
   ],
   "source": [
    "def _generate_points(current_pos: Point, instruction: Instruction):\n",
    "    new_points = None\n",
    "    \n",
    "    if instruction.operation == 'R':\n",
    "        new_points = [Point(x, current_pos.y)\n",
    "                      for x in range(current_pos.x + 1, current_pos.x + instruction.value + 1)]\n",
    "\n",
    "    elif instruction.operation == 'L':\n",
    "        new_points = [Point(x, current_pos.y)\n",
    "                      for x in range(current_pos.x - 1, current_pos.x - instruction.value - 1, -1)]\n",
    "\n",
    "    elif instruction.operation == 'U':\n",
    "        new_points = [Point(current_pos.x, y)\n",
    "                      for y in range(current_pos.y + 1, current_pos.y + instruction.value + 1)]\n",
    "        \n",
    "    elif instruction.operation == 'D':\n",
    "        new_points = [Point(current_pos.x, y)\n",
    "                      for y in range(current_pos.y - 1, current_pos.y - instruction.value - 1, -1)]\n",
    "        \n",
    "    return new_points\n",
    "    \n",
    "_generate_points(Point(-5, -10), Instruction('U', 2))"
   ]
  },
  {
   "cell_type": "code",
   "execution_count": 6,
   "id": "93d44e39",
   "metadata": {},
   "outputs": [
    {
     "data": {
      "text/plain": [
       "[Point(x=6, y=5), Point(x=3, y=3)]"
      ]
     },
     "execution_count": 6,
     "metadata": {},
     "output_type": "execute_result"
    }
   ],
   "source": [
    "from enum import Enum\n",
    "\n",
    "class WireNumber(Enum):\n",
    "    WIRE_1 = 0\n",
    "    WIRE_2 = 1\n",
    "\n",
    "def generate_wire_map(wire_map: dict, instructions: list[Instruction], wire_nb: WireNumber) -> map:\n",
    "    current_pos = Point(0, 0)\n",
    "    new_points = []\n",
    "    for instruction in instructions:\n",
    "        new_points = [*new_points, *(_generate_points(current_pos, instruction))]\n",
    "        current_pos = new_points[-1]\n",
    "        \n",
    "    for new_point in new_points:\n",
    "        if new_point in wire_map.keys():\n",
    "            wire_map[new_point].add(wire_nb)\n",
    "        else:\n",
    "            wire_map[new_point] = {wire_nb}\n",
    "            \n",
    "    return wire_map\n",
    "\n",
    "def calculate_crossing_points(wire_map: dict) -> list[Point]:\n",
    "    return [point for point, val in wire_map.items() if len(val) == 2]\n",
    "\n",
    "wire_map = {}\n",
    "wire_map = generate_wire_map(wire_map, sample_data[0], WireNumber.WIRE_1)\n",
    "wire_map = generate_wire_map(wire_map, sample_data[1], WireNumber.WIRE_2)\n",
    "calculate_crossing_points(wire_map)"
   ]
  },
  {
   "cell_type": "markdown",
   "id": "c3aa24de",
   "metadata": {},
   "source": [
    "### Calculate result"
   ]
  },
  {
   "cell_type": "code",
   "execution_count": 7,
   "id": "15c70a22",
   "metadata": {},
   "outputs": [],
   "source": [
    "def calculate_res_p1(wire_map: map) -> int:\n",
    "    crossing_points = calculate_crossing_points(wire_map)\n",
    "    \n",
    "    res = min(\n",
    "        [calculate_manhattan_distance(Point(0, 0), crossing_point)\n",
    "         for crossing_point in crossing_points]\n",
    "    )\n",
    "    return res"
   ]
  },
  {
   "cell_type": "code",
   "execution_count": 8,
   "id": "fe0bd160",
   "metadata": {},
   "outputs": [],
   "source": [
    "wire_map = {}\n",
    "wire_map = generate_wire_map(wire_map, data[0], WireNumber.WIRE_1)\n",
    "wire_map = generate_wire_map(wire_map, data[1], WireNumber.WIRE_2)"
   ]
  },
  {
   "cell_type": "code",
   "execution_count": 9,
   "id": "a0eb9e41",
   "metadata": {},
   "outputs": [
    {
     "data": {
      "text/plain": [
       "865"
      ]
     },
     "execution_count": 9,
     "metadata": {},
     "output_type": "execute_result"
    }
   ],
   "source": [
    "calculate_res_p1(wire_map)"
   ]
  },
  {
   "cell_type": "markdown",
   "id": "d230c95b",
   "metadata": {},
   "source": [
    "Your puzzle answer was `865`."
   ]
  },
  {
   "cell_type": "markdown",
   "id": "dfff0a41",
   "metadata": {},
   "source": [
    "## Part 2\n",
    "\n",
    "It turns out that this circuit is very timing-sensitive; you actually need to **minimize the signal delay**.\n",
    "\n",
    "To do this, calculate the **number of steps** each wire takes to reach each intersection; choose the intersection where the **sum of both wires' steps** is lowest. If a wire visits a position on the grid multiple times, use the steps value from the **first** time it visits that position when calculating the total value of a specific intersection.\n",
    "\n",
    "The number of steps a wire takes is the total number of grid squares the wire has entered to get to that location, including the intersection being considered. Again consider the example from above:\n",
    "\n",
    "```\n",
    "...........\n",
    ".+-----+...\n",
    ".|.....|...\n",
    ".|..+--X-+.\n",
    ".|..|..|.|.\n",
    ".|.-X--+.|.\n",
    ".|..|....|.\n",
    ".|.......|.\n",
    ".o-------+.\n",
    "...........\n",
    "```\n",
    "\n",
    "In the above example, the intersection closest to the central port is reached after `8+5+5+2 =`**`20`** steps by the first wire and `7+6+4+3 =`**`20`** steps by the second wire for a total of `20+20 =`**`40`** steps.\n",
    "\n",
    "However, the top-right intersection is better: the first wire takes only `8+5+2 =`**`15`** and the second wire takes only `7+6+2 =`**`15`**, a total of `15+15 =`**`30`** steps.\n",
    "\n",
    "Here are the best steps for the extra examples from above:\n",
    "\n",
    "- `R75,D30,R83,U83,L12,D49,R71,U7,L72`<br>\n",
    "  `U62,R66,U55,R34,D71,R55,D58,R83 =`**`610`** steps\n",
    "- `R98,U47,R26,D63,R33,U87,L62,D20,R33,U53,R51`<br>\n",
    "  `U98,R91,D20,R16,D67,R40,U7,R15,U6,R7 =`**`410`** steps\n",
    "\n",
    "**What is the fewest combined steps the wires must take to reach an intersection?**"
   ]
  },
  {
   "cell_type": "markdown",
   "id": "64dde61c",
   "metadata": {},
   "source": [
    "### Calculate number of steps needed to reach a crossing point"
   ]
  },
  {
   "cell_type": "code",
   "execution_count": 10,
   "id": "8404ce53",
   "metadata": {},
   "outputs": [
    {
     "name": "stdout",
     "output_type": "stream",
     "text": [
      "15 15\n"
     ]
    }
   ],
   "source": [
    "def calculate_nb_of_steps(crossing_point: Point, instructions: list[Instruction]):\n",
    "    nb_steps = 0\n",
    "    current_pos = Point(0, 0)\n",
    "    new_points = []\n",
    "    for instruction in instructions:\n",
    "        new_points = _generate_points(current_pos, instruction)\n",
    "        \n",
    "        if crossing_point in new_points:\n",
    "            nb_steps += new_points.index(crossing_point) + 1\n",
    "            break\n",
    "            \n",
    "        nb_steps += instruction.value\n",
    "        current_pos = new_points[-1]\n",
    "        \n",
    "    return nb_steps\n",
    "\n",
    "wire_1_sample_steps = calculate_nb_of_steps(Point(x=6, y=5), sample_data[0])\n",
    "wire_2_sample_steps = calculate_nb_of_steps(Point(x=6, y=5), sample_data[1])\n",
    "\n",
    "print(wire_1_sample_steps, wire_2_sample_steps)"
   ]
  },
  {
   "cell_type": "markdown",
   "id": "24913fbc",
   "metadata": {},
   "source": [
    "### Calculate result"
   ]
  },
  {
   "cell_type": "code",
   "execution_count": 11,
   "id": "29817d9e",
   "metadata": {},
   "outputs": [
    {
     "data": {
      "text/plain": [
       "610"
      ]
     },
     "execution_count": 11,
     "metadata": {},
     "output_type": "execute_result"
    }
   ],
   "source": [
    "def calculate_res_p2(crossing_points: list[Point], instructions: list[list[Instruction]]) -> int:\n",
    "    res = []\n",
    "    \n",
    "    for crossing_point in crossing_points:\n",
    "        nb_steps = calculate_nb_of_steps(crossing_point, instructions[0])\n",
    "        nb_steps += calculate_nb_of_steps(crossing_point, instructions[1])\n",
    "        res.append(nb_steps)\n",
    "        \n",
    "    return min(res)\n",
    "\n",
    "wire_map = {}\n",
    "wire_map = generate_wire_map(wire_map, sample_data2[0], WireNumber.WIRE_1)\n",
    "wire_map = generate_wire_map(wire_map, sample_data2[1], WireNumber.WIRE_2)\n",
    "crossing_points = calculate_crossing_points(wire_map)\n",
    "calculate_res_p2(crossing_points, sample_data2)"
   ]
  },
  {
   "cell_type": "code",
   "execution_count": 12,
   "id": "3cab0ee3",
   "metadata": {},
   "outputs": [
    {
     "data": {
      "text/plain": [
       "35038"
      ]
     },
     "execution_count": 12,
     "metadata": {},
     "output_type": "execute_result"
    }
   ],
   "source": [
    "wire_map = generate_wire_map(wire_map, data[0], WireNumber.WIRE_1)\n",
    "wire_map = generate_wire_map(wire_map, data[1], WireNumber.WIRE_2)\n",
    "crossing_points = calculate_crossing_points(wire_map)\n",
    "\n",
    "calculate_res_p2(crossing_points, data)"
   ]
  },
  {
   "cell_type": "markdown",
   "id": "fdec1b2e",
   "metadata": {},
   "source": [
    "Your puzzle answer was `35038`."
   ]
  }
 ],
 "metadata": {
  "kernelspec": {
   "display_name": "Python 3 (ipykernel)",
   "language": "python",
   "name": "python3"
  },
  "language_info": {
   "codemirror_mode": {
    "name": "ipython",
    "version": 3
   },
   "file_extension": ".py",
   "mimetype": "text/x-python",
   "name": "python",
   "nbconvert_exporter": "python",
   "pygments_lexer": "ipython3",
   "version": "3.9.13"
  }
 },
 "nbformat": 4,
 "nbformat_minor": 5
}
